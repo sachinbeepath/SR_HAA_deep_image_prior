{
 "cells": [
  {
   "cell_type": "code",
   "execution_count": 11,
   "metadata": {},
   "outputs": [],
   "source": [
    "import numpy as np\n",
    "import matplotlib.pyplot as plt\n",
    "from astropy.io import fits\n",
    "from astropy import wcs\n",
    "from astropy.nddata.utils import Cutout2D\n",
    "import os\n",
    "from astropy.visualization import (ZScaleInterval, ImageNormalize)\n",
    "\n",
    "for file in os.listdir(os.getcwd()):\n",
    "    if file.endswith('.fits.fz'):\n",
    "        data, hdr = fits.getdata(file, 0, header=True)\n",
    "        filt = hdr[\"FILTER\"]\n",
    "        \n",
    "        if filt == \"z.MP9801\":\n",
    "            os.rename(file, \"z_\" + file) \n",
    "        elif filt == \"u.MP9301\":\n",
    "            os.rename(file, \"u_\" + file) \n",
    "        elif filt == \"i.MP9701\":\n",
    "            os.rename(file, \"i_\" + file) \n",
    "        "
   ]
  },
  {
   "cell_type": "code",
   "execution_count": 10,
   "metadata": {},
   "outputs": [
    {
     "data": {
      "text/plain": [
       "'i.MP9701'"
      ]
     },
     "execution_count": 10,
     "metadata": {},
     "output_type": "execute_result"
    }
   ],
   "source": [
    "data, hdr = fits.getdata(\"cutout_file_1450.fits.fz\", 0, header=True)\n",
    "hdr[\"FILTER\"]"
   ]
  },
  {
   "cell_type": "code",
   "execution_count": null,
   "metadata": {},
   "outputs": [],
   "source": [
    "z.MP9801\n",
    "u.MP9301\n",
    "i.MP9701"
   ]
  }
 ],
 "metadata": {
  "kernelspec": {
   "display_name": "Python 3",
   "language": "python",
   "name": "python3"
  },
  "language_info": {
   "codemirror_mode": {
    "name": "ipython",
    "version": 3
   },
   "file_extension": ".py",
   "mimetype": "text/x-python",
   "name": "python",
   "nbconvert_exporter": "python",
   "pygments_lexer": "ipython3",
   "version": "3.6.3"
  }
 },
 "nbformat": 4,
 "nbformat_minor": 2
}
