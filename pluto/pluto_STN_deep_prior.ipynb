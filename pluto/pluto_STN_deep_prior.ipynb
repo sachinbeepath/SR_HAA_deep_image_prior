{
  "nbformat": 4,
  "nbformat_minor": 0,
  "metadata": {
    "colab": {
      "name": "pluto_STN_deep_prior.ipynb",
      "version": "0.3.2",
      "provenance": [],
      "collapsed_sections": []
    },
    "kernelspec": {
      "name": "python3",
      "display_name": "Python 3"
    },
    "accelerator": "GPU"
  },
  "cells": [
    {
      "metadata": {
        "id": "miYGaMXdP1tz",
        "colab_type": "code",
        "outputId": "e1458cea-e631-427c-dca8-c5c73c8b7900",
        "colab": {
          "base_uri": "https://localhost:8080/",
          "height": 35
        }
      },
      "cell_type": "code",
      "source": [
        "print(1)"
      ],
      "execution_count": 0,
      "outputs": [
        {
          "output_type": "stream",
          "text": [
            "1\n"
          ],
          "name": "stdout"
        }
      ]
    },
    {
      "metadata": {
        "id": "JbZs-y_RC6jV",
        "colab_type": "code",
        "cellView": "both",
        "outputId": "5bae1210-aa42-4a00-e411-34c4db826e8f",
        "colab": {
          "base_uri": "https://localhost:8080/",
          "height": 528
        }
      },
      "cell_type": "code",
      "source": [
        "#@title\n",
        "# http://pytorch.org/\n",
        "from os import path\n",
        "from wheel.pep425tags import get_abbr_impl, get_impl_ver, get_abi_tag\n",
        "platform = '{}{}-{}'.format(get_abbr_impl(), get_impl_ver(), get_abi_tag())\n",
        "\n",
        "accelerator = 'cu80' if path.exists('/opt/bin/nvidia-smi') else 'cpu'\n",
        "\n",
        "!pip install torch torchvision\n",
        "!pip install --no-cache-dir -I pillow\n",
        "!pip install astropy --no-deps"
      ],
      "execution_count": 0,
      "outputs": [
        {
          "output_type": "stream",
          "text": [
            "Collecting torch\n",
            "\u001b[?25l  Downloading https://files.pythonhosted.org/packages/49/0e/e382bcf1a6ae8225f50b99cc26effa2d4cc6d66975ccf3fa9590efcbedce/torch-0.4.1-cp36-cp36m-manylinux1_x86_64.whl (519.5MB)\n",
            "\u001b[K    100% |████████████████████████████████| 519.5MB 31kB/s \n",
            "tcmalloc: large alloc 1073750016 bytes == 0x58e5a000 @  0x7f2842d922a4 0x591a07 0x5b5d56 0x502e9a 0x506859 0x502209 0x502f3d 0x506859 0x504c28 0x502540 0x502f3d 0x506859 0x504c28 0x502540 0x502f3d 0x506859 0x504c28 0x502540 0x502f3d 0x507641 0x502209 0x502f3d 0x506859 0x504c28 0x502540 0x502f3d 0x507641 0x504c28 0x502540 0x502f3d 0x507641\n",
            "\u001b[?25hCollecting torchvision\n",
            "\u001b[?25l  Downloading https://files.pythonhosted.org/packages/ca/0d/f00b2885711e08bd71242ebe7b96561e6f6d01fdb4b9dcf4d37e2e13c5e1/torchvision-0.2.1-py2.py3-none-any.whl (54kB)\n",
            "\u001b[K    100% |████████████████████████████████| 61kB 25.1MB/s \n",
            "\u001b[?25hRequirement already satisfied: six in /usr/local/lib/python3.6/dist-packages (from torchvision) (1.11.0)\n",
            "Collecting pillow>=4.1.1 (from torchvision)\n",
            "\u001b[?25l  Downloading https://files.pythonhosted.org/packages/62/94/5430ebaa83f91cc7a9f687ff5238e26164a779cca2ef9903232268b0a318/Pillow-5.3.0-cp36-cp36m-manylinux1_x86_64.whl (2.0MB)\n",
            "\u001b[K    100% |████████████████████████████████| 2.0MB 5.6MB/s \n",
            "\u001b[?25hRequirement already satisfied: numpy in /usr/local/lib/python3.6/dist-packages (from torchvision) (1.14.6)\n",
            "Installing collected packages: torch, pillow, torchvision\n",
            "  Found existing installation: Pillow 4.0.0\n",
            "    Uninstalling Pillow-4.0.0:\n",
            "      Successfully uninstalled Pillow-4.0.0\n",
            "Successfully installed pillow-5.3.0 torch-0.4.1 torchvision-0.2.1\n",
            "Collecting pillow\n",
            "\u001b[?25l  Downloading https://files.pythonhosted.org/packages/62/94/5430ebaa83f91cc7a9f687ff5238e26164a779cca2ef9903232268b0a318/Pillow-5.3.0-cp36-cp36m-manylinux1_x86_64.whl (2.0MB)\n",
            "\u001b[K    100% |████████████████████████████████| 2.0MB 64.6MB/s \n",
            "\u001b[?25hInstalling collected packages: pillow\n",
            "Successfully installed pillow-5.3.0\n",
            "Collecting astropy\n",
            "\u001b[?25l  Downloading https://files.pythonhosted.org/packages/26/6f/d6993ad4dde9cfa7c51f9be218739302e1f01b5e1df2b59853084b26c439/astropy-3.0.5-cp36-cp36m-manylinux1_x86_64.whl (6.0MB)\n",
            "\u001b[K    100% |████████████████████████████████| 6.0MB 6.3MB/s \n",
            "\u001b[?25hInstalling collected packages: astropy\n",
            "Successfully installed astropy-3.0.5\n"
          ],
          "name": "stdout"
        }
      ]
    },
    {
      "metadata": {
        "id": "4MZzWNkwOYx_",
        "colab_type": "code",
        "colab": {}
      },
      "cell_type": "code",
      "source": [
        "#!rm -rf ~/.nv"
      ],
      "execution_count": 0,
      "outputs": []
    },
    {
      "metadata": {
        "id": "B-D1esI4APLT",
        "colab_type": "code",
        "cellView": "both",
        "colab": {}
      },
      "cell_type": "code",
      "source": [
        "#@title\n",
        "from __future__ import print_function\n",
        "import matplotlib.pyplot as plt\n",
        "from __future__ import print_function\n",
        "import matplotlib.pyplot as plt\n",
        "import torch\n",
        "import torch.nn as nn\n",
        "import torchvision\n",
        "import sys\n",
        "\n",
        "import numpy as np\n",
        "from PIL import Image\n",
        "import PIL\n",
        "%matplotlib inline\n",
        "from astropy.io import fits\n",
        "from astropy.visualization import ZScaleInterval as zscale\n",
        "\n",
        "import argparse\n",
        "import os\n",
        "# os.environ['CUDA_VISIBLE_DEVICES'] = '1'\n",
        "\n",
        "import torch.optim\n",
        "\n",
        "from skimage.measure import compare_psnr\n",
        "%matplotlib inline\n",
        "\n",
        "import argparse\n",
        "import os\n",
        "# os.environ['CUDA_VISIBLE_DEVICES'] = '1'\n",
        "\n",
        "import torch.optim\n",
        "\n",
        "from skimage.measure import compare_psnr\n",
        "from astropy.modeling.models import Gaussian2D"
      ],
      "execution_count": 0,
      "outputs": []
    },
    {
      "metadata": {
        "id": "9e1nuZ16Y8zE",
        "colab_type": "code",
        "colab": {}
      },
      "cell_type": "code",
      "source": [
        "from astropy.visualization import (ZScaleInterval, ImageNormalize)\n",
        "from scipy.ndimage.filters import gaussian_filter\n"
      ],
      "execution_count": 0,
      "outputs": []
    },
    {
      "metadata": {
        "id": "GJg1fiLoOB1B",
        "colab_type": "code",
        "colab": {}
      },
      "cell_type": "code",
      "source": [
        "torch.backends.cudnn.enabled = True\n",
        "torch.backends.cudnn.benchmark =True\n",
        "dtype = torch.cuda.FloatTensor"
      ],
      "execution_count": 0,
      "outputs": []
    },
    {
      "metadata": {
        "id": "WO5sVrx3GymX",
        "colab_type": "code",
        "outputId": "5281d600-8ed3-45c0-8246-882decb0d3fd",
        "colab": {
          "base_uri": "https://localhost:8080/",
          "height": 35
        }
      },
      "cell_type": "code",
      "source": [
        "torch.cuda.is_available()"
      ],
      "execution_count": 0,
      "outputs": [
        {
          "output_type": "execute_result",
          "data": {
            "text/plain": [
              "True"
            ]
          },
          "metadata": {
            "tags": []
          },
          "execution_count": 7
        }
      ]
    },
    {
      "metadata": {
        "id": "Is3VzYeIDByF",
        "colab_type": "code",
        "cellView": "code",
        "colab": {}
      },
      "cell_type": "code",
      "source": [
        "#@title\n",
        "from scipy.misc import imresize \n",
        "def load_fits(path):\n",
        "    \"\"\"Load fits file.\"\"\"\n",
        "    f = fits.open(path)\n",
        "    return f\n",
        "\n",
        "def get_data(path, imsize=-1):\n",
        "    \"\"\"Load an image and resize to a specific size. \n",
        "    Args: \n",
        "        path: path to image\n",
        "        imsize: tuple or scalar with dimensions; -1 for `no resize`\n",
        "    \"\"\"\n",
        "    f = load_fits(path)\n",
        "    d = f[0].data\n",
        "\n",
        "    if isinstance(imsize, int):\n",
        "        imsize = (imsize, imsize)\n",
        "\n",
        "    if imsize[0]!= -1 and d.shape != imsize:\n",
        "        if imsize[0] > d.shape[0]:\n",
        "            d = imresize(d,imsize, 'bicubic')\n",
        "        else:\n",
        "            d = imresize(d,imsize, 'lanczos')\n",
        "    \n",
        "    return f, d\n",
        "\n",
        "def crop_center(img,cropx,cropy):\n",
        "    \"\"\"centre crops numpy array\n",
        "    \"\"\"\n",
        "    x,y = img.shape\n",
        "    startx = int(x/2-(cropx/2))\n",
        "    starty = int(y/2-(cropy/2))\n",
        "    return img[startx:startx+cropx,starty:starty+cropy]\n",
        "\n",
        "def load_LR_HR_fits_sr(fname, imsize, enforse_div32=None):\n",
        "    '''Loads an image, resizes it, center crops and downscales.\n",
        "    Args: \n",
        "        fname: path to the image\n",
        "        imsize: new size for the image, -1 for no resizing\n",
        "        factor: downscaling factor\n",
        "        enforse_div32: if 'CROP' center crops an image, so that its dimensions are divisible by 32.\n",
        "    '''\n",
        "    fits_orig, data_orig = get_data(fname, -1)\n",
        "\n",
        "    if imsize != -1:\n",
        "        fits_orig, data_orig = get_data(fname, imsize)\n",
        "        \n",
        "    # For comparison with GT\n",
        "    if enforse_div32 == 'CROP':\n",
        "        new_size = (data_orig.shape[0] - data_orig.shape[0] % 32, \n",
        "                    data_orig.shape[1] - data_orig.shape[1] % 32)\n",
        "\n",
        "        data_crop = crop_center(data_orig,new_size[0],new_size[1])\n",
        "    else:\n",
        "        data_crop = data_orig\n",
        "        \n",
        "    return {    'orig_np':  data_orig,\n",
        "                'crop_np': data_crop\n",
        "}\n",
        "  \n",
        "def get_noise(input_depth, method, spatial_size, noise_type='u', var=1./10):\n",
        "    \"\"\"Returns a pytorch.Tensor of size (1 x `input_depth` x `spatial_size[0]` x `spatial_size[1]`) \n",
        "    initialized in a specific way.\n",
        "    Args:\n",
        "        input_depth: number of channels in the tensor\n",
        "        method: `noise` for fillting tensor with noise; `meshgrid` for np.meshgrid\n",
        "        spatial_size: spatial size of the tensor to initialize\n",
        "        noise_type: 'u' for uniform; 'n' for normal\n",
        "        var: a factor, a noise will be multiplicated by. Basically it is standard deviation scaler. \n",
        "    \"\"\"\n",
        "    if isinstance(spatial_size, int):\n",
        "        spatial_size = (spatial_size, spatial_size)\n",
        "    if method == 'noise':\n",
        "        shape = [1, input_depth, spatial_size[0], spatial_size[1]]\n",
        "        net_input = torch.zeros(shape)\n",
        "        \n",
        "        fill_noise(net_input, noise_type)\n",
        "        net_input *= var            \n",
        "    elif method == 'meshgrid': \n",
        "        assert input_depth == 2\n",
        "        X, Y = np.meshgrid(np.arange(0, spatial_size[1])/float(spatial_size[1]-1), np.arange(0, spatial_size[0])/float(spatial_size[0]-1))\n",
        "        meshgrid = np.concatenate([X[None,:], Y[None,:]])\n",
        "        net_input=  np_to_torch(meshgrid)\n",
        "    else:\n",
        "        assert False\n",
        "    return net_input\n",
        "\n",
        "def fill_noise(x, noise_type):\n",
        "    \"\"\"Fills tensor `x` with noise of type `noise_type`.\"\"\"\n",
        "    if noise_type == 'u':\n",
        "        x.uniform_()\n",
        "    elif noise_type == 'n':\n",
        "        x.normal_() \n",
        "    else:\n",
        "        assert False\n",
        "        \n",
        "import torch.nn as nn\n",
        "\n",
        "def get_net(input_depth, NET_TYPE, pad, upsample_mode, n_channels=3, act_fun='LeakyReLU', skip_n33d=128, skip_n33u=128, skip_n11=4, num_scales=5, downsample_mode='stride'):\n",
        "    if NET_TYPE == 'ResNet':\n",
        "        # TODO\n",
        "        net = ResNet(input_depth, 3, 10, 16, 1, nn.BatchNorm2d, False)\n",
        "    elif NET_TYPE == 'skip':\n",
        "        net = skip(input_depth, n_channels, num_channels_down = [skip_n33d]*num_scales if isinstance(skip_n33d, int) else skip_n33d,\n",
        "                                            num_channels_up =   [skip_n33u]*num_scales if isinstance(skip_n33u, int) else skip_n33u,\n",
        "                                            num_channels_skip = [skip_n11]*num_scales if isinstance(skip_n11, int) else skip_n11, \n",
        "                                            upsample_mode=upsample_mode, downsample_mode=downsample_mode,\n",
        "                                            need_sigmoid=True, need_bias=True, pad=pad, act_fun=act_fun)\n",
        "\n",
        "    elif NET_TYPE == 'texture_nets':\n",
        "        net = get_texture_nets(inp=input_depth, ratios = [32, 16, 8, 4, 2, 1], fill_noise=False,pad=pad)\n",
        "\n",
        "    elif NET_TYPE =='UNet':\n",
        "        net = UNet(num_input_channels=input_depth, num_output_channels=3, \n",
        "                   feature_scale=4, more_layers=0, concat_x=False,\n",
        "                   upsample_mode=upsample_mode, pad=pad, norm_layer=nn.BatchNorm2d, need_sigmoid=True, need_bias=True)\n",
        "    elif NET_TYPE == 'identity':\n",
        "        assert input_depth == 3\n",
        "        net = nn.Sequential()\n",
        "    else:\n",
        "        assert False\n",
        "\n",
        "    return net\n",
        "  \n",
        "def skip(\n",
        "        num_input_channels=2, num_output_channels=3, \n",
        "        num_channels_down=[16, 32, 64, 128, 128], num_channels_up=[16, 32, 64, 128, 128], num_channels_skip=[4, 4, 4, 4, 4], \n",
        "        filter_size_down=3, filter_size_up=3, filter_skip_size=1,\n",
        "        need_sigmoid=True, need_bias=True, \n",
        "        pad='zero', upsample_mode='nearest', downsample_mode='stride', act_fun='LeakyReLU', \n",
        "        need1x1_up=True):\n",
        "    \"\"\"Assembles encoder-decoder with skip connections.\n",
        "    Arguments:\n",
        "        act_fun: Either string 'LeakyReLU|Swish|ELU|none' or module (e.g. nn.ReLU)\n",
        "        pad (string): zero|reflection (default: 'zero')\n",
        "        upsample_mode (string): 'nearest|bilinear' (default: 'nearest')\n",
        "        downsample_mode (string): 'stride|avg|max|lanczos2' (default: 'stride')\n",
        "    \"\"\"\n",
        "    assert len(num_channels_down) == len(num_channels_up) == len(num_channels_skip)\n",
        "\n",
        "    n_scales = len(num_channels_down) \n",
        "\n",
        "    if not (isinstance(upsample_mode, list) or isinstance(upsample_mode, tuple)) :\n",
        "        upsample_mode   = [upsample_mode]*n_scales\n",
        "\n",
        "    if not (isinstance(downsample_mode, list)or isinstance(downsample_mode, tuple)):\n",
        "        downsample_mode   = [downsample_mode]*n_scales\n",
        "    \n",
        "    if not (isinstance(filter_size_down, list) or isinstance(filter_size_down, tuple)) :\n",
        "        filter_size_down   = [filter_size_down]*n_scales\n",
        "\n",
        "    if not (isinstance(filter_size_up, list) or isinstance(filter_size_up, tuple)) :\n",
        "        filter_size_up   = [filter_size_up]*n_scales\n",
        "\n",
        "    last_scale = n_scales - 1 \n",
        "\n",
        "    cur_depth = None\n",
        "\n",
        "    model = nn.Sequential()\n",
        "    model_tmp = model\n",
        "\n",
        "    input_depth = num_input_channels\n",
        "    for i in range(len(num_channels_down)):\n",
        "\n",
        "        deeper = nn.Sequential()\n",
        "        skip = nn.Sequential()\n",
        "\n",
        "        if num_channels_skip[i] != 0:\n",
        "            model_tmp.add(Concat(1, skip, deeper))\n",
        "        else:\n",
        "            model_tmp.add(deeper)\n",
        "        \n",
        "        model_tmp.add(bn(num_channels_skip[i] + (num_channels_up[i + 1] if i < last_scale else num_channels_down[i])))\n",
        "\n",
        "        if num_channels_skip[i] != 0:\n",
        "            skip.add(conv(input_depth, num_channels_skip[i], filter_skip_size, bias=need_bias, pad=pad))\n",
        "            skip.add(bn(num_channels_skip[i]))\n",
        "            skip.add(act(act_fun))\n",
        "            \n",
        "        # skip.add(Concat(2, GenNoise(nums_noise[i]), skip_part))\n",
        "\n",
        "        deeper.add(conv(input_depth, num_channels_down[i], filter_size_down[i], 2, bias=need_bias, pad=pad, downsample_mode=downsample_mode[i]))\n",
        "        deeper.add(bn(num_channels_down[i]))\n",
        "        deeper.add(act(act_fun))\n",
        "\n",
        "        deeper.add(conv(num_channels_down[i], num_channels_down[i], filter_size_down[i], bias=need_bias, pad=pad))\n",
        "        deeper.add(bn(num_channels_down[i]))\n",
        "        deeper.add(act(act_fun))\n",
        "\n",
        "        deeper_main = nn.Sequential()\n",
        "\n",
        "        if i == len(num_channels_down) - 1:\n",
        "            # The deepest\n",
        "            k = num_channels_down[i]\n",
        "        else:\n",
        "            deeper.add(deeper_main)\n",
        "            k = num_channels_up[i + 1]\n",
        "\n",
        "        deeper.add(nn.Upsample(scale_factor=2, mode=upsample_mode[i]))\n",
        "\n",
        "        model_tmp.add(conv(num_channels_skip[i] + k, num_channels_up[i], filter_size_up[i], 1, bias=need_bias, pad=pad))\n",
        "        model_tmp.add(bn(num_channels_up[i]))\n",
        "        model_tmp.add(act(act_fun))\n",
        "\n",
        "\n",
        "        if need1x1_up:\n",
        "            model_tmp.add(conv(num_channels_up[i], num_channels_up[i], 1, bias=need_bias, pad=pad))\n",
        "            model_tmp.add(bn(num_channels_up[i]))\n",
        "            model_tmp.add(act(act_fun))\n",
        "\n",
        "        input_depth = num_channels_down[i]\n",
        "        model_tmp = deeper_main\n",
        "\n",
        "    model.add(conv(num_channels_up[0], num_output_channels, 1, bias=need_bias, pad=pad))\n",
        "    if need_sigmoid:\n",
        "        model.add(nn.Sigmoid())\n",
        "    return model\n",
        "  \n",
        "def act(act_fun = 'LeakyReLU'):\n",
        "    '''\n",
        "        Either string defining an activation function or module (e.g. nn.ReLU)\n",
        "    '''\n",
        "    if isinstance(act_fun, str):\n",
        "        if act_fun == 'LeakyReLU':\n",
        "            return nn.LeakyReLU(0.2, inplace=True)\n",
        "        elif act_fun == 'Swish':\n",
        "            return Swish()\n",
        "        elif act_fun == 'ELU':\n",
        "            return nn.ELU()\n",
        "        elif act_fun == 'none':\n",
        "            return nn.Sequential()\n",
        "        else:\n",
        "            assert False\n",
        "    else:\n",
        "        return act_fun()\n",
        "\n",
        "\n",
        "def bn(num_features):\n",
        "    return nn.BatchNorm2d(num_features)\n",
        "\n",
        "\n",
        "def conv(in_f, out_f, kernel_size, stride=1, bias=True, pad='zero', downsample_mode='stride'):\n",
        "    downsampler = None\n",
        "    if stride != 1 and downsample_mode != 'stride':\n",
        "\n",
        "        if downsample_mode == 'avg':\n",
        "            downsampler = nn.AvgPool2d(stride, stride)\n",
        "        elif downsample_mode == 'max':\n",
        "            downsampler = nn.MaxPool2d(stride, stride)\n",
        "        elif downsample_mode  in ['lanczos2', 'lanczos3']:\n",
        "            downsampler = Downsampler(n_planes=out_f, factor=stride, kernel_type=downsample_mode, phase=0.5, preserve_size=True)\n",
        "        else:\n",
        "            assert False\n",
        "\n",
        "        stride = 1\n",
        "\n",
        "    padder = None\n",
        "    to_pad = int((kernel_size - 1) / 2)\n",
        "    if pad == 'reflection':\n",
        "        padder = nn.ReflectionPad2d(to_pad)\n",
        "        to_pad = 0\n",
        "  \n",
        "    convolver = nn.Conv2d(in_f, out_f, kernel_size, stride, padding=to_pad, bias=bias)\n",
        "\n",
        "\n",
        "    layers = filter(lambda x: x is not None, [padder, convolver, downsampler])\n",
        "    return nn.Sequential(*layers)\n",
        "  \n",
        "  \n",
        "def add_module(self, module):\n",
        "    self.add_module(str(len(self) + 1), module)\n",
        "    \n",
        "torch.nn.Module.add = add_module\n",
        "\n",
        "class Concat(nn.Module):\n",
        "    def __init__(self, dim, *args):\n",
        "        super(Concat, self).__init__()\n",
        "        self.dim = dim\n",
        "\n",
        "        for idx, module in enumerate(args):\n",
        "            self.add_module(str(idx), module)\n",
        "\n",
        "    def forward(self, input):\n",
        "        inputs = []\n",
        "        for module in self._modules.values():\n",
        "            inputs.append(module(input))\n",
        "\n",
        "        inputs_shapes2 = [x.shape[2] for x in inputs]\n",
        "        inputs_shapes3 = [x.shape[3] for x in inputs]        \n",
        "\n",
        "        if np.all(np.array(inputs_shapes2) == min(inputs_shapes2)) and np.all(np.array(inputs_shapes3) == min(inputs_shapes3)):\n",
        "            inputs_ = inputs\n",
        "        else:\n",
        "            target_shape2 = min(inputs_shapes2)\n",
        "            target_shape3 = min(inputs_shapes3)\n",
        "\n",
        "            inputs_ = []\n",
        "            for inp in inputs: \n",
        "                diff2 = (inp.size(2) - target_shape2) // 2 \n",
        "                diff3 = (inp.size(3) - target_shape3) // 2 \n",
        "                inputs_.append(inp[:, :, diff2: diff2 + target_shape2, diff3:diff3 + target_shape3])\n",
        "\n",
        "        return torch.cat(inputs_, dim=self.dim)\n",
        "\n",
        "    def __len__(self):\n",
        "        return len(self._modules)\n",
        "\n",
        "def np_to_torch(img_np):\n",
        "    '''Converts image in numpy.array to torch.Tensor.\n",
        "    From C x W x H [0..1] to  C x W x H [0..1]\n",
        "    '''\n",
        "    return torch.from_numpy(img_np)[None, :]\n",
        "\n",
        "def torch_to_np(img_var):\n",
        "    '''Converts an image in torch.Tensor format to np.array.\n",
        "    From 1 x C x W x H [0..1] to  C x W x H [0..1]\n",
        "    '''\n",
        "    return img_var.detach().cpu().numpy()[0]\n",
        "\n",
        "\n",
        "def optimize(optimizer_type, parameters, closure, LR, num_iter):\n",
        "    \"\"\"Runs optimization loop.\n",
        "    Args:\n",
        "        optimizer_type: 'LBFGS' of 'adam'\n",
        "        parameters: list of Tensors to optimize over\n",
        "        closure: function, that returns loss variable\n",
        "        LR: learning rate\n",
        "        num_iter: number of iterations \n",
        "    \"\"\"\n",
        "    if optimizer_type == 'LBFGS':\n",
        "        # Do several steps with adam first\n",
        "        optimizer = torch.optim.Adam(parameters, lr=0.001)\n",
        "        for j in range(100):\n",
        "            optimizer.zero_grad()\n",
        "            closure()\n",
        "            optimizer.step()\n",
        "\n",
        "        print('Starting optimization with LBFGS')        \n",
        "        def closure2():\n",
        "            optimizer.zero_grad()\n",
        "            return closure()\n",
        "        optimizer = torch.optim.LBFGS(parameters, max_iter=num_iter, lr=LR, tolerance_grad=-1, tolerance_change=-1)\n",
        "        optimizer.step(closure2)\n",
        "\n",
        "    elif optimizer_type == 'adam':\n",
        "        print('Starting optimization with ADAM')\n",
        "        optimizer = torch.optim.Adam(parameters, lr=LR)\n",
        "        scheduler = torch.optim.lr_scheduler.ExponentialLR(optimizer,0.95)\n",
        "        #down_optimizer = []\n",
        "        #down_scheduler = []\n",
        "#        for i in range(1, len(parameters)):\n",
        " #         down_opt = torch.optim.Adam(parameters[i], lr=LR)\n",
        "  #        down_optimizer.append(down_opt)\n",
        "   #       down_scheduler.append(down_opt)\n",
        "          \n",
        "        for j in range(num_iter):\n",
        "          optimizer.zero_grad()\n",
        "          #for k in range(len(down_optimizer)):\n",
        "           # down_optimizer[k].zero_grad()\n",
        "          closure()\n",
        "          optimizer.step()\n",
        "          if j % 500 == 0 and j!= 0:\n",
        "            scheduler.step()\n",
        "          #for k in range(len(down_optimizer)):\n",
        "           # down_optimizer[k].step()\n",
        "            #if j % 500 == 0 and j!= 0:\n",
        "            #  down_scheduler[k].step()\n",
        "    else:\n",
        "      assert False\n",
        "      \n",
        "### Downsampler\n",
        "\n",
        "class Downsampler(nn.Module):\n",
        "    '''\n",
        "        http://www.realitypixels.com/turk/computergraphics/ResamplingFilters.pdf\n",
        "    '''\n",
        "    def __init__(self, n_planes, factor, kernel_type, phase=0, kernel_width=None, support=None, sigma=None, preserve_size=False):\n",
        "        super(Downsampler, self).__init__()\n",
        "        \n",
        "        assert phase in [0, 0.5], 'phase should be 0 or 0.5'\n",
        "\n",
        "        if kernel_type == 'lanczos2':\n",
        "            support = 2\n",
        "            kernel_width = 4 * factor + 1\n",
        "            kernel_type_ = 'lanczos'\n",
        "\n",
        "        elif kernel_type == 'lanczos3':\n",
        "            support = 3\n",
        "            kernel_width = 6 * factor + 1\n",
        "            kernel_type_ = 'lanczos'\n",
        "\n",
        "        elif kernel_type == 'gauss12':\n",
        "            kernel_width = 7\n",
        "            sigma = 1/2\n",
        "            kernel_type_ = 'gauss'\n",
        "\n",
        "        elif kernel_type == 'gauss1sq2':\n",
        "            kernel_width = 9\n",
        "            sigma = 1./np.sqrt(2)\n",
        "            kernel_type_ = 'gauss'\n",
        "       \n",
        "        elif kernel_type == 'gauss2':\n",
        "            kernel_width = 19\n",
        "            sigma = 2\n",
        "            kernel_type_ = 'gauss'\n",
        "            \n",
        "        elif kernel_type in ['lanczos', 'gauss', 'box']:\n",
        "            kernel_type_ = kernel_type\n",
        "\n",
        "        else:\n",
        "            assert False, 'wrong name kernel'\n",
        "            \n",
        "            \n",
        "        # note that `kernel width` will be different to actual size for phase = 1/2\n",
        "        self.kernel = get_kernel(factor, kernel_type_, phase, kernel_width, support=support, sigma=sigma)\n",
        "        \n",
        "        downsampler = nn.Conv2d(n_planes, n_planes, kernel_size=self.kernel.shape, stride=factor, padding=0)\n",
        "        downsampler.weight.data[:] = 0\n",
        "        downsampler.bias.data[:] = 0\n",
        "\n",
        "        kernel_torch = torch.from_numpy(self.kernel)\n",
        "        for i in range(n_planes):\n",
        "            downsampler.weight.data[i, i] = kernel_torch       \n",
        "\n",
        "        self.downsampler_ = downsampler\n",
        "\n",
        "        if preserve_size:\n",
        "\n",
        "            if  self.kernel.shape[0] % 2 == 1: \n",
        "                pad = int((self.kernel.shape[0] - 1) / 2.)\n",
        "            else:\n",
        "                pad = int((self.kernel.shape[0] - factor) / 2.)\n",
        "                \n",
        "            self.padding = nn.ReplicationPad2d(pad)\n",
        "        \n",
        "        self.preserve_size = preserve_size\n",
        "        \n",
        "    def forward(self, input):\n",
        "        if self.preserve_size:\n",
        "            x = self.padding(input)\n",
        "        else:\n",
        "            x= input\n",
        "        self.x = x\n",
        "        return self.downsampler_(x)\n",
        "        \n",
        "def get_kernel(factor, kernel_type, phase, kernel_width, support=None, sigma=None):\n",
        "    assert kernel_type in ['lanczos', 'gauss', 'box']\n",
        "    \n",
        "    # factor  = float(factor)\n",
        "    if phase == 0.5 and kernel_type != 'box': \n",
        "        kernel = np.zeros([kernel_width - 1, kernel_width - 1])\n",
        "    else:\n",
        "        kernel = np.zeros([kernel_width, kernel_width])\n",
        "    \n",
        "        \n",
        "    if kernel_type == 'box':\n",
        "        assert phase == 0.5, 'Box filter is always half-phased'\n",
        "        kernel[:] = 1./(kernel_width * kernel_width)\n",
        "        \n",
        "    elif kernel_type == 'gauss': \n",
        "        assert sigma, 'sigma is not specified'\n",
        "        assert phase != 0.5, 'phase 1/2 for gauss not implemented'\n",
        "        \n",
        "        center = (kernel_width + 1.)/2.\n",
        "        print(center, kernel_width)\n",
        "        sigma_sq =  sigma * sigma\n",
        "        \n",
        "        for i in range(1, kernel.shape[0] + 1):\n",
        "            for j in range(1, kernel.shape[1] + 1):\n",
        "                di = (i - center)/2.\n",
        "                dj = (j - center)/2.\n",
        "                kernel[i - 1][j - 1] = np.exp(-(di * di + dj * dj)/(2 * sigma_sq))\n",
        "                kernel[i - 1][j - 1] = kernel[i - 1][j - 1]/(2. * np.pi * sigma_sq)\n",
        "    elif kernel_type == 'lanczos': \n",
        "        assert support, 'support is not specified'\n",
        "        center = (kernel_width + 1) / 2.\n",
        "\n",
        "        for i in range(1, kernel.shape[0] + 1):\n",
        "            for j in range(1, kernel.shape[1] + 1):\n",
        "                \n",
        "                if phase == 0.5:\n",
        "                    di = abs(i + 0.5 - center) / factor  \n",
        "                    dj = abs(j + 0.5 - center) / factor \n",
        "                else:\n",
        "                    di = abs(i - center) / factor\n",
        "                    dj = abs(j - center) / factor\n",
        "                \n",
        "                \n",
        "                pi_sq = np.pi * np.pi\n",
        "\n",
        "                val = 1\n",
        "                if di != 0:\n",
        "                    val = val * support * np.sin(np.pi * di) * np.sin(np.pi * di / support)\n",
        "                    val = val / (np.pi * np.pi * di * di)\n",
        "                \n",
        "                if dj != 0:\n",
        "                    val = val * support * np.sin(np.pi * dj) * np.sin(np.pi * dj / support)\n",
        "                    val = val / (np.pi * np.pi * dj * dj)\n",
        "                \n",
        "                kernel[i - 1][j - 1] = val\n",
        "            \n",
        "        \n",
        "    else:\n",
        "        assert False, 'wrong method name'\n",
        "    \n",
        "    kernel /= kernel.sum()\n",
        "    \n",
        "    return kernel\n",
        "  \n",
        "def get_params(opt_over, net_list, net_input, downsampler=None):\n",
        "    '''Returns parameters that we want to optimize over.\n",
        "    Args:\n",
        "        opt_over: comma separated list, e.g. \"net,input\" or \"net\"\n",
        "        net: network\n",
        "        net_input: torch.Tensor that stores input `z`\n",
        "    '''\n",
        "    opt_over_list = opt_over.split(',')\n",
        "    params = []\n",
        "    \n",
        "    for opt in opt_over_list:\n",
        "    \n",
        "        if opt == 'net':\n",
        "          for net in net_list:\n",
        "            params += [x for x in net.parameters() ]\n",
        "        elif  opt=='down':\n",
        "            assert downsampler is not None\n",
        "            params = [x for x in downsampler.parameters()]\n",
        "        elif opt == 'input':\n",
        "            net_input.requires_grad = True\n",
        "            params += [net_input]\n",
        "        else:\n",
        "            assert False, 'what is it?'\n",
        "            \n",
        "    return params\n",
        "  \n",
        "import scipy.stats as st\n",
        "\n",
        "def gkern(kernlen=21, nsig=3):\n",
        "    \"\"\"Returns a 2D Gaussian kernel array.\"\"\"\n",
        "\n",
        "    interval = (2*nsig+1.)/(kernlen)\n",
        "    x = np.linspace(-nsig-interval/2., nsig+interval/2., kernlen+1)\n",
        "    kern1d = np.diff(st.norm.cdf(x))\n",
        "    kernel_raw = np.sqrt(np.outer(kern1d, kern1d))\n",
        "    kernel = kernel_raw/kernel_raw.sum()\n",
        "    return kernel  \n",
        "  \n",
        "  \n",
        "def put_in_center(img_np, target_size):\n",
        "    img_out = np.zeros([1, target_size[0], target_size[1]])\n",
        "    \n",
        "    bbox = [\n",
        "            int((target_size[0] - img_np.shape[1]) / 2),\n",
        "            int((target_size[1] - img_np.shape[2]) / 2),\n",
        "            int((target_size[0] + img_np.shape[1]) / 2),\n",
        "            int((target_size[1] + img_np.shape[2]) / 2),\n",
        "    ]\n",
        "    \n",
        "    img_out[:, bbox[0]:bbox[2], bbox[1]:bbox[3]] = img_np\n",
        "    \n",
        "    return img_out\n",
        "  \n",
        "def get_image_grid(images_np, nrow=8):\n",
        "    '''Creates a grid from a list of images by concatenating them.'''\n",
        "    images_torch = [torch.from_numpy(x) for x in images_np]\n",
        "    torch_grid = torchvision.utils.make_grid(images_torch, nrow)\n",
        "    \n",
        "    return torch_grid.numpy()\n",
        "\n",
        "def plot_image_grid(images_np, nrow =8, factor=1, interpolation='lanczos'):\n",
        "    \"\"\"Draws images in a grid\n",
        "    \n",
        "    Args:\n",
        "        images_np: list of images, each image is np.array of size 3xHxW of 1xHxW\n",
        "        nrow: how many images will be in one row\n",
        "        factor: size if the plt.figure \n",
        "        interpolation: interpolation used in plt.imshow\n",
        "    \"\"\"\n",
        "    n_channels = max(x.shape[0] for x in images_np)\n",
        "    assert (n_channels == 3) or (n_channels == 1), \"images should have 1 or 3 channels\"\n",
        "    \n",
        "    images_np = [x if (x.shape[0] == n_channels) else np.concatenate([x, x, x], axis=0) for x in images_np]\n",
        "\n",
        "    grid = get_image_grid(images_np, nrow)\n",
        "    \n",
        "    plt.figure(figsize=(len(images_np) + factor, 12 + factor))\n",
        "    \n",
        "    if images_np[0].shape[0] == 1:\n",
        "        plt.imshow(grid[0], cmap='gray', interpolation=interpolation)\n",
        "    else:\n",
        "        plt.imshow(grid.transpose(1, 2, 0), interpolation=interpolation)\n",
        "    \n",
        "    plt.show()\n",
        "    \n",
        "    #return grid\n",
        "    \n",
        "def make_down_net():\n",
        "  \n",
        "  model = [nn.Conv2d(1,1,11,4,bias=True,padding=4)]\n",
        "  model = nn.Sequential(*model)\n",
        " # model.add(nn.Conv2d(1,1,7,2,bias=True,padding=4))\n",
        " # model.add(nn.Conv2d(1,1,7,1,bias=True,padding=2))  \n",
        "#  model.add(nn.Conv2d(1,1,7,2,bias=True,padding=4))\n",
        "  \n",
        "  return model    "
      ],
      "execution_count": 0,
      "outputs": []
    },
    {
      "metadata": {
        "id": "N29NIENv6p-l",
        "colab_type": "code",
        "colab": {}
      },
      "cell_type": "code",
      "source": [
        "class SpatialTransformer(nn.Module):\n",
        "    \"\"\"\n",
        "    Implements a spatial transformer \n",
        "    as proposed in the Jaderberg paper. \n",
        "    Comprises of 3 parts:\n",
        "    1. Localization Net\n",
        "    2. A grid generator \n",
        "    3. A roi pooled module.\n",
        "    The current implementation uses a very small convolutional net with \n",
        "    2 convolutional layers and 2 fully connected layers. Backends \n",
        "    can be swapped in favor of VGG, ResNets etc. TTMV\n",
        "    Returns:\n",
        "    A roi feature map with the same input spatial dimension as the input feature map. \n",
        "    \"\"\"\n",
        "    def __init__(self, in_channels, spatial_dims, kernel_size,use_dropout=False):\n",
        "        super(SpatialTransformer, self).__init__()\n",
        "        self._h, self._w = spatial_dims \n",
        "        self._in_ch = in_channels \n",
        "        self._ksize = kernel_size\n",
        "        self.dropout = use_dropout\n",
        "\n",
        "        # localization net \n",
        "        self.conv1 = nn.Conv2d(in_channels, 32, kernel_size=self._ksize, stride=1, padding=2, bias=False) # size : [1x3x32x32]\n",
        "        self.conv2 = nn.Conv2d(32, 32, kernel_size=self._ksize, stride=1, padding=2, bias=False)\n",
        "        self.conv3 = nn.Conv2d(32, 32, kernel_size=self._ksize, stride=1, padding=2, bias=False)\n",
        "        self.conv4 = nn.Conv2d(32, 32, kernel_size=self._ksize, stride=1, padding=2, bias=False)\n",
        "\n",
        "        self.fc1 = nn.Linear(32*4*4, 1024)\n",
        "        self.fc2 = nn.Linear(1024, 6)\n",
        "\n",
        "\n",
        "    def forward(self, x): \n",
        "        \"\"\"\n",
        "        Forward pass of the STN module. \n",
        "        x -> input feature map \n",
        "        \"\"\"\n",
        "        batch_images = x \n",
        "        x = nn.functional.relu(self.conv1(x))\n",
        "        print(str(1) + str(x.shape))\n",
        "        x = nn.functional.relu(self.conv2(x))\n",
        "        print(str(2) + str(x.shape))\n",
        "        #x = nn.functional.max_pool2d(x, 2)\n",
        "        print(str(3) + str(x.shape))\n",
        "        x = nn.functional.relu(self.conv3(x))\n",
        "        print(str(4) + str(x.shape))\n",
        "        #x = nn.functional.max_pool2d(x,2)\n",
        "        print(str(5) + str(x.shape))\n",
        "        x = nn.functional.relu(self.conv3(x))\n",
        "        print(str(6) + str(x.shape))\n",
        "        #x = nn.functional.max_pool2d(x, 2)\n",
        "        print(\"Pre view size:{}\".format(x.size()))\n",
        "        x = x.view(-1, 32*4*4) # reshape\n",
        "        if self.dropout:\n",
        "            x = nn.functional.dropout(self.fc1(x), p=0.5)\n",
        "            x = nn.functional.dropout(self.fc2(x), p=0.5)\n",
        "        else:\n",
        "            x = self.fc1(x)\n",
        "            print(x.shape)\n",
        "            x = self.fc2(x) # params [Nx6]\n",
        "            print(x.shape)\n",
        "        \n",
        "        x = x.view(-1, 2,3) # change it to the 2x3 matrix \n",
        "        print(x.size())\n",
        "        affine_grid_points = nn.functional.affine_grid(x, torch.Size((x.size(0), self._in_ch, self._h, self._w)))\n",
        "        assert(affine_grid_points.size(0) == batch_images.size(0)), \"The batch sizes of the input images must be same as the generated grid.\"\n",
        "        rois = F.grid_sample(batch_images, affine_grid_points)\n",
        "        print(\"rois found to be of size:{}\".format(rois.size()))\n",
        "        return rois, affine_grid_points\n",
        "   \n",
        "      \n",
        "class STNSVHNet(nn.Module):\n",
        "  def __init__(self, spatial_dim,in_channels, stn_kernel_size, kernel_size, num_classes=10, use_dropout=False):\n",
        "    super(STNSVHNet, self).__init__()\n",
        "    self._in_ch = in_channels \n",
        "    self._ksize = kernel_size \n",
        "    self._sksize = stn_kernel_size\n",
        "    self.ncls = num_classes \n",
        "    self.dropout = use_dropout \n",
        "    self.drop_prob = 0.5\n",
        "    self.stride = 4 \n",
        "    self.spatial_dim = spatial_dim\n",
        "    \n",
        "    self.stnmod = SpatialTransformer(self._in_ch, self.spatial_dim, self._sksize)\n",
        "    self.conv1 = nn.Conv2d(self._in_ch, 32, kernel_size=self._ksize, stride=self.stride, padding=4, bias=False)\n",
        "    self.conv2 = nn.Conv2d(32, 64, kernel_size=self._ksize, stride=1, padding=1, bias=False)\n",
        "    self.conv3 = nn.Conv2d(64, 128, kernel_size=self._ksize, stride=1, padding=1, bias=False)\n",
        "    \n",
        "    self.fc1 = nn.Linear(128*4*4, 3092)\n",
        "    self.fc2 = nn.Linear(3092, self.ncls)\n",
        "\n",
        "        \n",
        "\n",
        "  def forward(self, x):\n",
        "    print(x.shape)\n",
        "    rois, affine_grid = self.stnmod(x)\n",
        "    out = F.relu(self.conv1(rois))\n",
        "    out = F.max_pool2d(out, 2)\n",
        "    out = F.relu(self.conv2(out))\n",
        "    out = F.max_pool2d(out, 2)\n",
        "    out = F.relu(self.conv3(out))\n",
        "    out = out.view(-1, 128*4*4)\n",
        "    if self.dropout:\n",
        "      out = F.dropout(self.fc1(out), p=0.5)\n",
        "    else:\n",
        "      out = self.fc1(out)\n",
        "      out = self.fc2(out)\n",
        "    return out"
      ],
      "execution_count": 0,
      "outputs": []
    },
    {
      "metadata": {
        "id": "F3XvvxryYrrv",
        "colab_type": "code",
        "colab": {}
      },
      "cell_type": "code",
      "source": [
        "stn_model = STNSVHNet((32,32),1, 5, 7, use_dropout=True).cuda()"
      ],
      "execution_count": 0,
      "outputs": []
    },
    {
      "metadata": {
        "id": "wMe52cFwAQhx",
        "colab_type": "code",
        "cellView": "both",
        "colab": {}
      },
      "cell_type": "code",
      "source": [
        "#@title\n",
        "torch.backends.cudnn.enabled = True\n",
        "torch.backends.cudnn.benchmark =True\n",
        "dtype = torch.cuda.FloatTensor\n",
        "\n",
        "imsize = -1 \n",
        "factor = 4 # 8\n"
      ],
      "execution_count": 0,
      "outputs": []
    },
    {
      "metadata": {
        "id": "HGZaJxO2DcFW",
        "colab_type": "code",
        "colab": {}
      },
      "cell_type": "code",
      "source": [
        "input_depth = 32\n",
        " \n",
        "INPUT =     'noise'\n",
        "pad   =     'reflection'\n",
        "OPT_OVER =  'net'\n",
        "KERNEL_TYPE='lanczos2'\n",
        "\n",
        "LR = 0.01\n",
        "tv_weight = 0.0\n",
        "\n",
        "OPTIMIZER = 'adam'\n",
        "\n",
        "if factor == 4: \n",
        "    num_iter = 4000\n",
        "    reg_noise_std = 0.03\n",
        "elif factor == 8:\n",
        "    num_iter = 4000\n",
        "    reg_noise_std = 0.05\n",
        "else:\n",
        "    assert False, 'We did not experiment with other factors'"
      ],
      "execution_count": 0,
      "outputs": []
    },
    {
      "metadata": {
        "id": "3RxGHK4Xi3H6",
        "colab_type": "code",
        "outputId": "c7962d9c-cff4-42c9-cc10-935d4f1e7a0e",
        "colab": {
          "base_uri": "https://localhost:8080/",
          "height": 585
        }
      },
      "cell_type": "code",
      "source": [
        "pluto = []\n",
        "file = \"cutoutlor_0299127173_0x630_eng.fit\"\n",
        "x = fits.open(file)[0].data[256:512,256:512]gal = []\n",
        "\n",
        "x_shape = (x - np.min(x))/(np.max(x) - np.min(x))\n",
        "pluto_torch = np_to_torch(x_shape).type(dtype)\n",
        "pluto.append(pluto_torch)\n",
        "figure = plt.figure(figsize=(10,10))\n",
        "plt.imshow(x_shape)\n",
        "plt.colorbar()  \n",
        "plt.show()\n",
        "  "
      ],
      "execution_count": 0,
      "outputs": [
        {
          "output_type": "display_data",
          "data": {
            "image/png": "[encoded data removed]",
            "text/plain": [
              "<matplotlib.figure.Figure at 0x7f5fc8572eb8>"
            ]
          },
          "metadata": {
            "tags": []
          }
        }
      ]
    },
    {
      "metadata": {
        "id": "Wlkxmh6pPzCY",
        "colab_type": "code",
        "outputId": "b38760e1-8706-440c-ab65-c38e43a83661",
        "colab": {
          "base_uri": "https://localhost:8080/",
          "height": 35
        }
      },
      "cell_type": "code",
      "source": [
        "pluto = torch.stack(pluto)\n",
        "pluto.shape"
      ],
      "execution_count": 0,
      "outputs": [
        {
          "output_type": "execute_result",
          "data": {
            "text/plain": [
              "torch.Size([1, 1, 256, 256])"
            ]
          },
          "metadata": {
            "tags": []
          },
          "execution_count": 15
        }
      ]
    },
    {
      "metadata": {
        "id": "gSByG4hND4P4",
        "colab_type": "code",
        "colab": {}
      },
      "cell_type": "code",
      "source": [
        "net_input = get_noise(input_depth, INPUT, (pluto.shape[2] * factor, pluto.shape[3] * factor)).type(dtype).detach()\n",
        "\n",
        "NET_TYPE = 'skip' # UNet, ResNet\n",
        "\n",
        "net = get_net(input_depth,'skip', pad,\n",
        "              n_channels=1,\n",
        "              skip_n33d=128, \n",
        "              skip_n33u=128, \n",
        "              skip_n11=4, \n",
        "              num_scales=5,\n",
        "              upsample_mode='bilinear').type(dtype)\n",
        "#down_net = []\n",
        "\n",
        "#for i in range(gal.shape[0]):\n",
        " # down_net.append(make_down_net().type(dtype))\n",
        "#downsampler = Downsampler(n_planes=1, factor=factor, kernel_type=KERNEL_TYPE, phase=0.5, preserve_size=True).type(dtype)"
      ],
      "execution_count": 0,
      "outputs": []
    },
    {
      "metadata": {
        "id": "D0tfJH-bElln",
        "colab_type": "code",
        "outputId": "f9df7525-d2f0-496b-af3c-f89f582fd213",
        "colab": {
          "base_uri": "https://localhost:8080/",
          "height": 35
        }
      },
      "cell_type": "code",
      "source": [
        "mse = torch.nn.MSELoss().type(dtype)\n",
        "\n",
        "img_LR_var = gal.type(dtype)\n",
        "img_LR_var.shape"
      ],
      "execution_count": 0,
      "outputs": [
        {
          "output_type": "execute_result",
          "data": {
            "text/plain": [
              "torch.Size([1, 1, 256, 256])"
            ]
          },
          "metadata": {
            "tags": []
          },
          "execution_count": 17
        }
      ]
    },
    {
      "metadata": {
        "id": "Yh47njHBOqQT",
        "colab_type": "code",
        "colab": {}
      },
      "cell_type": "code",
      "source": [
        "from google.colab import files\n",
        "psnr_history = [] \n",
        "net_input_saved = net_input.detach().clone()\n",
        "noise = net_input.detach().clone()\n",
        "\n"
      ],
      "execution_count": 0,
      "outputs": []
    },
    {
      "metadata": {
        "id": "QDVBmwlxyWIJ",
        "colab_type": "code",
        "outputId": "4108a78d-c540-4cc9-ba04-3aa57ecaa3aa",
        "colab": {
          "base_uri": "https://localhost:8080/",
          "height": 110
        }
      },
      "cell_type": "code",
      "source": [
        "HR = net(net_input)\n"
      ],
      "execution_count": 0,
      "outputs": [
        {
          "output_type": "stream",
          "text": [
            "/usr/local/lib/python3.6/dist-packages/torch/nn/modules/upsampling.py:122: UserWarning: nn.Upsampling is deprecated. Use nn.functional.interpolate instead.\n",
            "  warnings.warn(\"nn.Upsampling is deprecated. Use nn.functional.interpolate instead.\")\n",
            "/usr/local/lib/python3.6/dist-packages/torch/nn/functional.py:1961: UserWarning: Default upsampling behavior when mode=bilinear is changed to align_corners=False since 0.4.0. Please specify align_corners=True if the old behavior is desired. See the documentation of nn.Upsample for details.\n",
            "  \"See the documentation of nn.Upsample for details.\".format(mode))\n"
          ],
          "name": "stderr"
        }
      ]
    },
    {
      "metadata": {
        "id": "YNyUgYOWD5y0",
        "colab_type": "code",
        "outputId": "2b14b30c-90c5-4b6f-d6f1-9f73ffa6b942",
        "colab": {
          "base_uri": "https://localhost:8080/",
          "height": 35
        }
      },
      "cell_type": "code",
      "source": [
        "HR.shape"
      ],
      "execution_count": 0,
      "outputs": [
        {
          "output_type": "execute_result",
          "data": {
            "text/plain": [
              "torch.Size([1, 1, 1024, 1024])"
            ]
          },
          "metadata": {
            "tags": []
          },
          "execution_count": 21
        }
      ]
    },
    {
      "metadata": {
        "id": "AdqMMHkx40RI",
        "colab_type": "code",
        "outputId": "a638b311-ab52-4383-d1e6-29c4190ba156",
        "colab": {
          "base_uri": "https://localhost:8080/",
          "height": 1135
        }
      },
      "cell_type": "code",
      "source": [
        "LR= stn_model(HR)"
      ],
      "execution_count": 0,
      "outputs": [
        {
          "output_type": "stream",
          "text": [
            "torch.Size([1, 1, 1024, 1024])\n",
            "1torch.Size([1, 32, 1024, 1024])\n",
            "2torch.Size([1, 32, 1024, 1024])\n",
            "3torch.Size([1, 32, 1024, 1024])\n",
            "4torch.Size([1, 32, 1024, 1024])\n",
            "5torch.Size([1, 32, 1024, 1024])\n",
            "6torch.Size([1, 32, 1024, 1024])\n",
            "Pre view size:torch.Size([1, 32, 1024, 1024])\n",
            "torch.Size([65536, 1024])\n",
            "torch.Size([65536, 6])\n",
            "torch.Size([65536, 2, 3])\n"
          ],
          "name": "stdout"
        },
        {
          "output_type": "error",
          "ename": "RuntimeError",
          "evalue": "ignored",
          "traceback": [
            "\u001b[0;31m---------------------------------------------------------------------------\u001b[0m",
            "\u001b[0;31mRuntimeError\u001b[0m                              Traceback (most recent call last)",
            "\u001b[0;32m<ipython-input-22-aa35cc87916f>\u001b[0m in \u001b[0;36m<module>\u001b[0;34m()\u001b[0m\n\u001b[0;32m----> 1\u001b[0;31m \u001b[0mLR\u001b[0m\u001b[0;34m=\u001b[0m \u001b[0mstn_model\u001b[0m\u001b[0;34m(\u001b[0m\u001b[0mHR\u001b[0m\u001b[0;34m)\u001b[0m\u001b[0;34m\u001b[0m\u001b[0;34m\u001b[0m\u001b[0m\n\u001b[0m",
            "\u001b[0;32m/usr/local/lib/python3.6/dist-packages/torch/nn/modules/module.py\u001b[0m in \u001b[0;36m__call__\u001b[0;34m(self, *input, **kwargs)\u001b[0m\n\u001b[1;32m    475\u001b[0m             \u001b[0mresult\u001b[0m \u001b[0;34m=\u001b[0m \u001b[0mself\u001b[0m\u001b[0;34m.\u001b[0m\u001b[0m_slow_forward\u001b[0m\u001b[0;34m(\u001b[0m\u001b[0;34m*\u001b[0m\u001b[0minput\u001b[0m\u001b[0;34m,\u001b[0m \u001b[0;34m**\u001b[0m\u001b[0mkwargs\u001b[0m\u001b[0;34m)\u001b[0m\u001b[0;34m\u001b[0m\u001b[0;34m\u001b[0m\u001b[0m\n\u001b[1;32m    476\u001b[0m         \u001b[0;32melse\u001b[0m\u001b[0;34m:\u001b[0m\u001b[0;34m\u001b[0m\u001b[0;34m\u001b[0m\u001b[0m\n\u001b[0;32m--> 477\u001b[0;31m             \u001b[0mresult\u001b[0m \u001b[0;34m=\u001b[0m \u001b[0mself\u001b[0m\u001b[0;34m.\u001b[0m\u001b[0mforward\u001b[0m\u001b[0;34m(\u001b[0m\u001b[0;34m*\u001b[0m\u001b[0minput\u001b[0m\u001b[0;34m,\u001b[0m \u001b[0;34m**\u001b[0m\u001b[0mkwargs\u001b[0m\u001b[0;34m)\u001b[0m\u001b[0;34m\u001b[0m\u001b[0;34m\u001b[0m\u001b[0m\n\u001b[0m\u001b[1;32m    478\u001b[0m         \u001b[0;32mfor\u001b[0m \u001b[0mhook\u001b[0m \u001b[0;32min\u001b[0m \u001b[0mself\u001b[0m\u001b[0;34m.\u001b[0m\u001b[0m_forward_hooks\u001b[0m\u001b[0;34m.\u001b[0m\u001b[0mvalues\u001b[0m\u001b[0;34m(\u001b[0m\u001b[0;34m)\u001b[0m\u001b[0;34m:\u001b[0m\u001b[0;34m\u001b[0m\u001b[0;34m\u001b[0m\u001b[0m\n\u001b[1;32m    479\u001b[0m             \u001b[0mhook_result\u001b[0m \u001b[0;34m=\u001b[0m \u001b[0mhook\u001b[0m\u001b[0;34m(\u001b[0m\u001b[0mself\u001b[0m\u001b[0;34m,\u001b[0m \u001b[0minput\u001b[0m\u001b[0;34m,\u001b[0m \u001b[0mresult\u001b[0m\u001b[0;34m)\u001b[0m\u001b[0;34m\u001b[0m\u001b[0;34m\u001b[0m\u001b[0m\n",
            "\u001b[0;32m<ipython-input-9-0abc5865decc>\u001b[0m in \u001b[0;36mforward\u001b[0;34m(self, x)\u001b[0m\n\u001b[1;32m     93\u001b[0m   \u001b[0;32mdef\u001b[0m \u001b[0mforward\u001b[0m\u001b[0;34m(\u001b[0m\u001b[0mself\u001b[0m\u001b[0;34m,\u001b[0m \u001b[0mx\u001b[0m\u001b[0;34m)\u001b[0m\u001b[0;34m:\u001b[0m\u001b[0;34m\u001b[0m\u001b[0;34m\u001b[0m\u001b[0m\n\u001b[1;32m     94\u001b[0m     \u001b[0mprint\u001b[0m\u001b[0;34m(\u001b[0m\u001b[0mx\u001b[0m\u001b[0;34m.\u001b[0m\u001b[0mshape\u001b[0m\u001b[0;34m)\u001b[0m\u001b[0;34m\u001b[0m\u001b[0;34m\u001b[0m\u001b[0m\n\u001b[0;32m---> 95\u001b[0;31m     \u001b[0mrois\u001b[0m\u001b[0;34m,\u001b[0m \u001b[0maffine_grid\u001b[0m \u001b[0;34m=\u001b[0m \u001b[0mself\u001b[0m\u001b[0;34m.\u001b[0m\u001b[0mstnmod\u001b[0m\u001b[0;34m(\u001b[0m\u001b[0mx\u001b[0m\u001b[0;34m)\u001b[0m\u001b[0;34m\u001b[0m\u001b[0;34m\u001b[0m\u001b[0m\n\u001b[0m\u001b[1;32m     96\u001b[0m     \u001b[0mout\u001b[0m \u001b[0;34m=\u001b[0m \u001b[0mF\u001b[0m\u001b[0;34m.\u001b[0m\u001b[0mrelu\u001b[0m\u001b[0;34m(\u001b[0m\u001b[0mself\u001b[0m\u001b[0;34m.\u001b[0m\u001b[0mconv1\u001b[0m\u001b[0;34m(\u001b[0m\u001b[0mrois\u001b[0m\u001b[0;34m)\u001b[0m\u001b[0;34m)\u001b[0m\u001b[0;34m\u001b[0m\u001b[0;34m\u001b[0m\u001b[0m\n\u001b[1;32m     97\u001b[0m     \u001b[0mout\u001b[0m \u001b[0;34m=\u001b[0m \u001b[0mF\u001b[0m\u001b[0;34m.\u001b[0m\u001b[0mmax_pool2d\u001b[0m\u001b[0;34m(\u001b[0m\u001b[0mout\u001b[0m\u001b[0;34m,\u001b[0m \u001b[0;36m2\u001b[0m\u001b[0;34m)\u001b[0m\u001b[0;34m\u001b[0m\u001b[0;34m\u001b[0m\u001b[0m\n",
            "\u001b[0;32m/usr/local/lib/python3.6/dist-packages/torch/nn/modules/module.py\u001b[0m in \u001b[0;36m__call__\u001b[0;34m(self, *input, **kwargs)\u001b[0m\n\u001b[1;32m    475\u001b[0m             \u001b[0mresult\u001b[0m \u001b[0;34m=\u001b[0m \u001b[0mself\u001b[0m\u001b[0;34m.\u001b[0m\u001b[0m_slow_forward\u001b[0m\u001b[0;34m(\u001b[0m\u001b[0;34m*\u001b[0m\u001b[0minput\u001b[0m\u001b[0;34m,\u001b[0m \u001b[0;34m**\u001b[0m\u001b[0mkwargs\u001b[0m\u001b[0;34m)\u001b[0m\u001b[0;34m\u001b[0m\u001b[0;34m\u001b[0m\u001b[0m\n\u001b[1;32m    476\u001b[0m         \u001b[0;32melse\u001b[0m\u001b[0;34m:\u001b[0m\u001b[0;34m\u001b[0m\u001b[0;34m\u001b[0m\u001b[0m\n\u001b[0;32m--> 477\u001b[0;31m             \u001b[0mresult\u001b[0m \u001b[0;34m=\u001b[0m \u001b[0mself\u001b[0m\u001b[0;34m.\u001b[0m\u001b[0mforward\u001b[0m\u001b[0;34m(\u001b[0m\u001b[0;34m*\u001b[0m\u001b[0minput\u001b[0m\u001b[0;34m,\u001b[0m \u001b[0;34m**\u001b[0m\u001b[0mkwargs\u001b[0m\u001b[0;34m)\u001b[0m\u001b[0;34m\u001b[0m\u001b[0;34m\u001b[0m\u001b[0m\n\u001b[0m\u001b[1;32m    478\u001b[0m         \u001b[0;32mfor\u001b[0m \u001b[0mhook\u001b[0m \u001b[0;32min\u001b[0m \u001b[0mself\u001b[0m\u001b[0;34m.\u001b[0m\u001b[0m_forward_hooks\u001b[0m\u001b[0;34m.\u001b[0m\u001b[0mvalues\u001b[0m\u001b[0;34m(\u001b[0m\u001b[0;34m)\u001b[0m\u001b[0;34m:\u001b[0m\u001b[0;34m\u001b[0m\u001b[0;34m\u001b[0m\u001b[0m\n\u001b[1;32m    479\u001b[0m             \u001b[0mhook_result\u001b[0m \u001b[0;34m=\u001b[0m \u001b[0mhook\u001b[0m\u001b[0;34m(\u001b[0m\u001b[0mself\u001b[0m\u001b[0;34m,\u001b[0m \u001b[0minput\u001b[0m\u001b[0;34m,\u001b[0m \u001b[0mresult\u001b[0m\u001b[0;34m)\u001b[0m\u001b[0;34m\u001b[0m\u001b[0;34m\u001b[0m\u001b[0m\n",
            "\u001b[0;32m<ipython-input-9-0abc5865decc>\u001b[0m in \u001b[0;36mforward\u001b[0;34m(self, x)\u001b[0m\n\u001b[1;32m     62\u001b[0m         \u001b[0mx\u001b[0m \u001b[0;34m=\u001b[0m \u001b[0mx\u001b[0m\u001b[0;34m.\u001b[0m\u001b[0mview\u001b[0m\u001b[0;34m(\u001b[0m\u001b[0;34m-\u001b[0m\u001b[0;36m1\u001b[0m\u001b[0;34m,\u001b[0m \u001b[0;36m2\u001b[0m\u001b[0;34m,\u001b[0m\u001b[0;36m3\u001b[0m\u001b[0;34m)\u001b[0m \u001b[0;31m# change it to the 2x3 matrix\u001b[0m\u001b[0;34m\u001b[0m\u001b[0;34m\u001b[0m\u001b[0m\n\u001b[1;32m     63\u001b[0m         \u001b[0mprint\u001b[0m\u001b[0;34m(\u001b[0m\u001b[0mx\u001b[0m\u001b[0;34m.\u001b[0m\u001b[0msize\u001b[0m\u001b[0;34m(\u001b[0m\u001b[0;34m)\u001b[0m\u001b[0;34m)\u001b[0m\u001b[0;34m\u001b[0m\u001b[0;34m\u001b[0m\u001b[0m\n\u001b[0;32m---> 64\u001b[0;31m         \u001b[0maffine_grid_points\u001b[0m \u001b[0;34m=\u001b[0m \u001b[0mnn\u001b[0m\u001b[0;34m.\u001b[0m\u001b[0mfunctional\u001b[0m\u001b[0;34m.\u001b[0m\u001b[0maffine_grid\u001b[0m\u001b[0;34m(\u001b[0m\u001b[0mx\u001b[0m\u001b[0;34m,\u001b[0m \u001b[0mtorch\u001b[0m\u001b[0;34m.\u001b[0m\u001b[0mSize\u001b[0m\u001b[0;34m(\u001b[0m\u001b[0;34m(\u001b[0m\u001b[0mx\u001b[0m\u001b[0;34m.\u001b[0m\u001b[0msize\u001b[0m\u001b[0;34m(\u001b[0m\u001b[0;36m0\u001b[0m\u001b[0;34m)\u001b[0m\u001b[0;34m,\u001b[0m \u001b[0mself\u001b[0m\u001b[0;34m.\u001b[0m\u001b[0m_in_ch\u001b[0m\u001b[0;34m,\u001b[0m \u001b[0mself\u001b[0m\u001b[0;34m.\u001b[0m\u001b[0m_h\u001b[0m\u001b[0;34m,\u001b[0m \u001b[0mself\u001b[0m\u001b[0;34m.\u001b[0m\u001b[0m_w\u001b[0m\u001b[0;34m)\u001b[0m\u001b[0;34m)\u001b[0m\u001b[0;34m)\u001b[0m\u001b[0;34m\u001b[0m\u001b[0;34m\u001b[0m\u001b[0m\n\u001b[0m\u001b[1;32m     65\u001b[0m         \u001b[0;32massert\u001b[0m\u001b[0;34m(\u001b[0m\u001b[0maffine_grid_points\u001b[0m\u001b[0;34m.\u001b[0m\u001b[0msize\u001b[0m\u001b[0;34m(\u001b[0m\u001b[0;36m0\u001b[0m\u001b[0;34m)\u001b[0m \u001b[0;34m==\u001b[0m \u001b[0mbatch_images\u001b[0m\u001b[0;34m.\u001b[0m\u001b[0msize\u001b[0m\u001b[0;34m(\u001b[0m\u001b[0;36m0\u001b[0m\u001b[0;34m)\u001b[0m\u001b[0;34m)\u001b[0m\u001b[0;34m,\u001b[0m \u001b[0;34m\"The batch sizes of the input images must be same as the generated grid.\"\u001b[0m\u001b[0;34m\u001b[0m\u001b[0;34m\u001b[0m\u001b[0m\n\u001b[1;32m     66\u001b[0m         \u001b[0mrois\u001b[0m \u001b[0;34m=\u001b[0m \u001b[0mF\u001b[0m\u001b[0;34m.\u001b[0m\u001b[0mgrid_sample\u001b[0m\u001b[0;34m(\u001b[0m\u001b[0mbatch_images\u001b[0m\u001b[0;34m,\u001b[0m \u001b[0maffine_grid_points\u001b[0m\u001b[0;34m)\u001b[0m\u001b[0;34m\u001b[0m\u001b[0;34m\u001b[0m\u001b[0m\n",
            "\u001b[0;32m/usr/local/lib/python3.6/dist-packages/torch/nn/functional.py\u001b[0m in \u001b[0;36maffine_grid\u001b[0;34m(theta, size)\u001b[0m\n\u001b[1;32m   2107\u001b[0m         \u001b[0moutput\u001b[0m \u001b[0;34m(\u001b[0m\u001b[0mTensor\u001b[0m\u001b[0;34m)\u001b[0m\u001b[0;34m:\u001b[0m \u001b[0moutput\u001b[0m \u001b[0mTensor\u001b[0m \u001b[0mof\u001b[0m \u001b[0msize\u001b[0m \u001b[0;34m(\u001b[0m\u001b[0;34m:\u001b[0m\u001b[0mmath\u001b[0m\u001b[0;34m:\u001b[0m\u001b[0;31m`\u001b[0m\u001b[0mN\u001b[0m\u001b[0;31m \u001b[0m\u001b[0;31m\\\u001b[0m\u001b[0mtimes\u001b[0m \u001b[0mH\u001b[0m\u001b[0;31m \u001b[0m\u001b[0;31m\\\u001b[0m\u001b[0mtimes\u001b[0m \u001b[0mW\u001b[0m\u001b[0;31m \u001b[0m\u001b[0;31m\\\u001b[0m\u001b[0mtimes\u001b[0m \u001b[0;36m2\u001b[0m\u001b[0;31m`\u001b[0m\u001b[0;34m)\u001b[0m\u001b[0;34m\u001b[0m\u001b[0;34m\u001b[0m\u001b[0m\n\u001b[1;32m   2108\u001b[0m     \"\"\"\n\u001b[0;32m-> 2109\u001b[0;31m     \u001b[0;32mreturn\u001b[0m \u001b[0mvision\u001b[0m\u001b[0;34m.\u001b[0m\u001b[0maffine_grid_generator\u001b[0m\u001b[0;34m(\u001b[0m\u001b[0mtheta\u001b[0m\u001b[0;34m,\u001b[0m \u001b[0msize\u001b[0m\u001b[0;34m)\u001b[0m\u001b[0;34m\u001b[0m\u001b[0;34m\u001b[0m\u001b[0m\n\u001b[0m\u001b[1;32m   2110\u001b[0m \u001b[0;34m\u001b[0m\u001b[0m\n\u001b[1;32m   2111\u001b[0m \u001b[0;34m\u001b[0m\u001b[0m\n",
            "\u001b[0;32m/usr/local/lib/python3.6/dist-packages/torch/nn/_functions/vision.py\u001b[0m in \u001b[0;36maffine_grid_generator\u001b[0;34m(theta, size)\u001b[0m\n\u001b[1;32m     15\u001b[0m             \u001b[0;32mraise\u001b[0m \u001b[0mRuntimeError\u001b[0m\u001b[0;34m(\u001b[0m\u001b[0;34m\"AffineGridGenerator generator theta not acceptable for CuDNN\"\u001b[0m\u001b[0;34m)\u001b[0m\u001b[0;34m\u001b[0m\u001b[0;34m\u001b[0m\u001b[0m\n\u001b[1;32m     16\u001b[0m         \u001b[0mN\u001b[0m\u001b[0;34m,\u001b[0m \u001b[0mC\u001b[0m\u001b[0;34m,\u001b[0m \u001b[0mH\u001b[0m\u001b[0;34m,\u001b[0m \u001b[0mW\u001b[0m \u001b[0;34m=\u001b[0m \u001b[0msize\u001b[0m\u001b[0;34m\u001b[0m\u001b[0;34m\u001b[0m\u001b[0m\n\u001b[0;32m---> 17\u001b[0;31m         \u001b[0;32mreturn\u001b[0m \u001b[0mtorch\u001b[0m\u001b[0;34m.\u001b[0m\u001b[0mcudnn_affine_grid_generator\u001b[0m\u001b[0;34m(\u001b[0m\u001b[0mtheta\u001b[0m\u001b[0;34m,\u001b[0m \u001b[0mN\u001b[0m\u001b[0;34m,\u001b[0m \u001b[0mC\u001b[0m\u001b[0;34m,\u001b[0m \u001b[0mH\u001b[0m\u001b[0;34m,\u001b[0m \u001b[0mW\u001b[0m\u001b[0;34m)\u001b[0m\u001b[0;34m\u001b[0m\u001b[0;34m\u001b[0m\u001b[0m\n\u001b[0m\u001b[1;32m     18\u001b[0m     \u001b[0;32melse\u001b[0m\u001b[0;34m:\u001b[0m\u001b[0;34m\u001b[0m\u001b[0;34m\u001b[0m\u001b[0m\n\u001b[1;32m     19\u001b[0m         \u001b[0;32mreturn\u001b[0m \u001b[0mAffineGridGenerator\u001b[0m\u001b[0;34m.\u001b[0m\u001b[0mapply\u001b[0m\u001b[0;34m(\u001b[0m\u001b[0mtheta\u001b[0m\u001b[0;34m,\u001b[0m \u001b[0msize\u001b[0m\u001b[0;34m)\u001b[0m\u001b[0;34m\u001b[0m\u001b[0;34m\u001b[0m\u001b[0m\n",
            "\u001b[0;31mRuntimeError\u001b[0m: CuDNN error: CUDNN_STATUS_EXECUTION_FAILED"
          ]
        }
      ]
    },
    {
      "metadata": {
        "id": "FI4yIG5KzL_g",
        "colab_type": "code",
        "colab": {}
      },
      "cell_type": "code",
      "source": [
        "LR.shape"
      ],
      "execution_count": 0,
      "outputs": []
    },
    {
      "metadata": {
        "id": "iMn4LVnQPw-n",
        "colab_type": "code",
        "colab": {}
      },
      "cell_type": "code",
      "source": [
        "def closure():\n",
        "    global i, net_input, k, output_list\n",
        "    \n",
        "    if reg_noise_std > 0:\n",
        "        net_input = net_input_saved + (noise.normal_() * reg_noise_std)\n",
        "\n",
        "    out_HR = net(net_input)\n",
        "    out_HR_np = torch_to_np(out_HR)\n",
        "    #out_LR = downsampler(out_HR)\n",
        "   \n",
        "    for k in range(len(gal)):\n",
        "      out_LR = down_net[k](out_HR)\n",
        "      if k == 0:\n",
        "        total_loss = mse(out_LR[0], img_LR_var[k]) \n",
        "      else:\n",
        "        total_loss += mse(out_LR[0], img_LR_var[k]) \n",
        "    \n",
        "    if tv_weight > 0:\n",
        "        total_loss += tv_weight * tv_loss(out_HR)\n",
        "        \n",
        "    total_loss.backward(retain_graph=True)\n",
        "\n",
        "    if i % 100 == 0:\n",
        "      output_list.append(out_HR_np) \n",
        "      print(i)\n",
        "      out_HR_np = torch_to_np(out_HR)\n",
        "      print(out_HR_np.shape)\n",
        "      print(\"total loss = \",total_loss)\n",
        "      \n",
        "      figure = plt.figure(figsize=(10,10))\n",
        "      plt.imshow(out_HR_np[0])\n",
        "      plt.colorbar(fraction = 0.046)\n",
        "      plt.title(\"Ouput\")\n",
        "      \n",
        "      plt.show()\n",
        "   \n",
        "    i += 1\n",
        "    \n",
        "    return total_loss\n"
      ],
      "execution_count": 0,
      "outputs": []
    },
    {
      "metadata": {
        "id": "Fp-nr_63Pzhi",
        "colab_type": "code",
        "colab": {}
      },
      "cell_type": "code",
      "source": [
        "i = 0\n",
        "output_list = []\n",
        "\n",
        "net_list = [net] + down_net\n",
        "p = get_params(OPT_OVER, net_list, net(net_input))\n",
        "    \n",
        "optimize(OPTIMIZER, p, closure, LR, 2000)"
      ],
      "execution_count": 0,
      "outputs": []
    },
    {
      "metadata": {
        "id": "Z8q-2IAv58up",
        "colab_type": "code",
        "colab": {}
      },
      "cell_type": "code",
      "source": [
        "out_HR = net(net_input)\n",
        "out_HR_np = torch_to_np(out_HR)\n",
        "output_list.append(out_HR_np) "
      ],
      "execution_count": 0,
      "outputs": []
    },
    {
      "metadata": {
        "id": "8d5JQRS3wW0G",
        "colab_type": "code",
        "colab": {}
      },
      "cell_type": "code",
      "source": [
        "data, hdr = fits.getdata(\"cutout_SloanR_2017-03-25-T13110630_11_light_ds_ff.fits\", 0, header=True)\n",
        "\n",
        "for i in range(len(output_list)):\n",
        "  fits.writeto(str(i)+'anneal_lr_SR_SloanR.fits', output_list[i], header=hdr, overwrite =True)\n",
        "  files.download(str(i)+'anneal_lr_SR_SloanR.fits')"
      ],
      "execution_count": 0,
      "outputs": []
    },
    {
      "metadata": {
        "id": "xmgYXAd09FB0",
        "colab_type": "code",
        "colab": {}
      },
      "cell_type": "code",
      "source": [
        "#out_LR = down_net[0](out_HR)#out_LR_np = torch_to_np(out_LR)figure = plt.figure(figsize=(10,10))plt.imshow(out_HR_np[0])plt.colorbar(fraction = 0.046)\n",
        "asdfasdfplt.title(\" Ouput\")\n",
        "\n",
        "plt.show()\n",
        "\n"
      ],
      "execution_count": 0,
      "outputs": []
    },
    {
      "metadata": {
        "id": "bT4kiMCg9jZM",
        "colab_type": "code",
        "colab": {}
      },
      "cell_type": "code",
      "source": [
        "figure = plt.figure(figsize=(10,10))\n",
        "plt.imshow(torch_to_np(out_LR[0] - img_LR_var[0]))\n",
        "plt.colorbar(fraction = 0.046)\n",
        "plt.title(\"Downsampled Ouput - input\")\n",
        "\n",
        "plt.show()\n",
        "\n"
      ],
      "execution_count": 0,
      "outputs": []
    },
    {
      "metadata": {
        "id": "8ythAGaCLiBp",
        "colab_type": "code",
        "colab": {}
      },
      "cell_type": "code",
      "source": [
        "fadsfrom google.colab import files\n",
        "data, hdr = fits.getdata(\"GT_jbnya2suq_drc.fits\", 0, header=True)\n",
        "fits.writeto('down_nov1_satellite.fits', out_HR_np, header=hdr, overwrite =True)\n",
        "files.download('down_nov1_satellite.fits')\n"
      ],
      "execution_count": 0,
      "outputs": []
    },
    {
      "metadata": {
        "id": "yv6ro0TuWMYv",
        "colab_type": "code",
        "colab": {}
      },
      "cell_type": "code",
      "source": [
        "#fits.writeto(\"GT_satellite.fits\", x, header=hdr, overwrite =True)\n",
        "#files.download(\"GT_satellite.fits\")\n"
      ],
      "execution_count": 0,
      "outputs": []
    },
    {
      "metadata": {
        "id": "kiGMlWKmBcLT",
        "colab_type": "code",
        "colab": {}
      },
      "cell_type": "code",
      "source": [
        "#fits.writeto(\"LR_satellite.fits\", torch_to_np(sat)[0], header=hdr, overwrite =True)\n",
        "#files.download(\"LR_satellite.fits\")"
      ],
      "execution_count": 0,
      "outputs": []
    },
    {
      "metadata": {
        "id": "B5dU7LtJYCJ1",
        "colab_type": "code",
        "colab": {}
      },
      "cell_type": "code",
      "source": [
        "zebra = img = Image.open('deepimgprior.png')\n",
        "figure = plt.figure(figsize=(20,10))\n",
        "plt.imshow(zebra)\n",
        "plt.show()"
      ],
      "execution_count": 0,
      "outputs": []
    },
    {
      "metadata": {
        "id": "8_v-OQKLrRGj",
        "colab_type": "code",
        "colab": {}
      },
      "cell_type": "code",
      "source": [
        "pria"
      ],
      "execution_count": 0,
      "outputs": []
    },
    {
      "metadata": {
        "id": "VmOqVvz5OgLc",
        "colab_type": "code",
        "colab": {}
      },
      "cell_type": "code",
      "source": [
        "out_LR = downsampler(out_HR)\n",
        "total_loss = mse(out_LR, img_LR_var[:,:,k,:,:])\n",
        "total_loss + mse(out_LR, img_LR_var[:,:,2,:,:]) + mse(out_LR, img_LR_var[:,:,4,:,:])"
      ],
      "execution_count": 0,
      "outputs": []
    },
    {
      "metadata": {
        "id": "AsoCso-6NJH3",
        "colab_type": "code",
        "colab": {}
      },
      "cell_type": "code",
      "source": [
        "for i in range (len(sat)):\n",
        "  fits.writeto('LR_100_sat' + str(i) + '.fits', sat[i], header=hdr, overwrite =True)\n",
        "  fits.writeto('noise_100_sat' + str(i) + '.fits', noise_l[i], header=hdr, overwrite =True)\n",
        "  files.download('LR_100_sat' + str(i) +'.fits')\n",
        "  files.download('noise_100_sat' + str(i) +'.fits')"
      ],
      "execution_count": 0,
      "outputs": []
    },
    {
      "metadata": {
        "id": "BVTcef-7zKdW",
        "colab_type": "code",
        "colab": {}
      },
      "cell_type": "code",
      "source": [
        "fits.writeto('GT_jbnya2suq_drc.fits', x, header=hdr, overwrite =True)\n",
        "files.download('GT_jbnya2suq_drc.fits')"
      ],
      "execution_count": 0,
      "outputs": []
    },
    {
      "metadata": {
        "id": "DeMDn7hIZ7iX",
        "colab_type": "code",
        "colab": {}
      },
      "cell_type": "code",
      "source": [
        "\n",
        "\n",
        "plt.subplot(2,2,1)\n",
        "plt.imshow(out_HR_np[0])\n",
        "plt.colorbar(fraction = 0.046)#,orientation='horizontal')\n",
        "plt.title(\"Output\")\n",
        "      \n",
        "norm = ImageNormalize(out_HR_np[0], interval = ZScaleInterval())\n",
        "plt.subplot(2,2,2)\n",
        "plt.imshow(out_HR_np[0],norm=norm)\n",
        "x = plt.colorbar(fraction = 0.046)#,orientation='horizontal')\n",
        "plt.title(\"Z-Scale of Output\")\n",
        " \n",
        "out_LR = downsampler(out_HR)\n",
        "  \n",
        "diff = torch_to_np(out_LR)[0]-gal[k]\n",
        "\n",
        "plt.subplot(2,2,3)\n",
        "plt.imshow(np.absolute(diff))\n",
        "plt.colorbar(fraction = 0.046)\n",
        "plt.show()\n",
        "\n",
        "normd=ImageNormalize(diff, interval = ZScaleInterval())\n",
        "xd,yd = z.get_limits(diff)\n",
        "\n",
        "plt.subplot(2,2,4)\n",
        "plt.imshow(np.absolute(diff),norm = normd)\n",
        "plt.colorbar(fraction = 0.046)#,orientation='horizontal')\n",
        "plt.title(\"Zscale Diff. Output and Original\")\n",
        "\n",
        "plt.tight_layout(pad=0.5)\n",
        "plt.show()\n",
        "   \n",
        "     \n",
        "      "
      ],
      "execution_count": 0,
      "outputs": []
    },
    {
      "metadata": {
        "id": "fwRUD4ltopLF",
        "colab_type": "code",
        "colab": {}
      },
      "cell_type": "code",
      "source": [
        "#for j in range(len(sky_l)):\n",
        " # scipy.misc.imsave('sky_l' + str(j) +'.png',sky_l[j])\n",
        "  #files.download('sky_l' + str(j) +'.png')"
      ],
      "execution_count": 0,
      "outputs": []
    },
    {
      "metadata": {
        "id": "p9KqRASAK8N_",
        "colab_type": "code",
        "colab": {}
      },
      "cell_type": "code",
      "source": [
        "#for i in range(10):\n",
        " # nrmd=ImageNormalize(orig_kerns[i], interval = ZScaleInterval())\n",
        "  #plt.subplot(221)\n",
        "  plt.imshow(orig_kerns[i],norm =nrmd)\n",
        "  plt.colorbar(fraction = 0.046)#,orientation='horizontal')\n",
        "  plt.title(\"Input Zscale\")\n",
        "  \n",
        "  nrmd=ImageNormalize(out_HR_np[0], interval = ZScaleInterval())\n",
        "  plt.subplot(222)\n",
        "  plt.imshow(out_HR_np[0],norm =nrmd)\n",
        "  plt.colorbar(fraction = 0.046)#,orientation='horizontal')\n",
        "  plt.title(\"Output Zscale\")\n",
        "  \n",
        "  diffs = (out_HR_np[0] - orig_kerns[i])\n",
        "  normd=ImageNormalize(diffs, interval = ZScaleInterval())\n",
        "\n",
        "  plt.subplot(223)\n",
        "  plt.imshow(np.absolute(diffs),norm = normd)\n",
        "  plt.colorbar(fraction = 0.046)#,orientation='horizontal')\n",
        "  plt.title(\"Zscale Diff. Output and Original %i\" %(i + 1))\n",
        "  plt.tight_layout(pad=0.5)\n",
        "  plt.show()"
      ],
      "execution_count": 0,
      "outputs": []
    }
  ]
}